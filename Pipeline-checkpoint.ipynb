{
 "cells": [
  {
   "cell_type": "code",
   "execution_count": 16,
   "id": "31a8373e-53e2-4372-8ece-2608834c714a",
   "metadata": {},
   "outputs": [],
   "source": [
    "import numpy as np\n",
    "import pandas as pd\n",
    "import joblib\n",
    "from sklearn.model_selection import train_test_split\n",
    "from sklearn.preprocessing import StandardScaler, OneHotEncoder\n",
    "from sklearn.pipeline import Pipeline\n",
    "from sklearn.compose import ColumnTransformer\n",
    "from sklearn.ensemble import RandomForestClassifier\n",
    "from sklearn.metrics import accuracy_score"
   ]
  },
  {
   "cell_type": "code",
   "execution_count": 17,
   "id": "bc55b60d-b03b-4c57-a581-21209d40543d",
   "metadata": {},
   "outputs": [
    {
     "name": "stdout",
     "output_type": "stream",
     "text": [
      "   Pclass     Sex   Age  SibSp  Parch     Fare Embarked  Survived\n",
      "0       3    male  22.0      1      0   7.2500        S         0\n",
      "1       1  female  38.0      1      0  71.2833        C         1\n",
      "2       3  female  26.0      0      0   7.9250        S         1\n",
      "3       1  female  35.0      1      0  53.1000        S         1\n",
      "4       3    male  35.0      0      0   8.0500        S         0\n"
     ]
    }
   ],
   "source": [
    "#load dataset\n",
    "df = pd.read_csv(\"C:/Users/itspr/OneDrive/Documents/Jupyter notebook/titanic.csv\")\n",
    "\n",
    "#select the relevant data\n",
    "features = ['Pclass', 'Sex', 'Age', 'SibSp', 'Parch', 'Fare', 'Embarked']\n",
    "df= df[features +['Survived']].dropna()\n",
    "\n",
    "#display first few columns\n",
    "print(df.head())"
   ]
  },
  {
   "cell_type": "code",
   "execution_count": 18,
   "id": "94155ecb-2013-44cf-bfa0-00ca5cd2fc29",
   "metadata": {},
   "outputs": [],
   "source": [
    "#Define preprocessing steps\n",
    "\n",
    "num_features=['Age' , 'SibSp', 'Parch', 'Fare']\n",
    "cat_features=['Pclass', 'Sex', 'Embarked']\n",
    "\n",
    "#define tranformers\n",
    "\n",
    "num_transformer= StandardScaler()\n",
    "cat_transformer= OneHotEncoder(handle_unknown='ignore')\n",
    "\n",
    "#combine  transformer into preprocesssor\n",
    "preprocessor= ColumnTransformer([\n",
    "    ('num' , num_transformer, num_features),\n",
    "    ('cat', cat_transformer, cat_features)\n",
    "])"
   ]
  },
  {
   "cell_type": "code",
   "execution_count": 19,
   "id": "7a269dcc-eb85-4348-8c4f-f278dd5550fe",
   "metadata": {},
   "outputs": [
    {
     "name": "stdout",
     "output_type": "stream",
     "text": [
      "Training set shape: (569, 7)\n",
      "Testing set shape: (143, 7)\n"
     ]
    }
   ],
   "source": [
    "#split the data for training and testing\n",
    "#define target and features\n",
    "X=df[features]\n",
    "y=df['Survived']\n",
    "\n",
    "#split into train and test sets\n",
    "X_train,X_test, y_train, y_test= train_test_split(X, y , test_size=0.2, random_state=42)\n",
    "\n",
    "#Display the shape of the data\n",
    "print(f\"Training set shape: {X_train.shape}\")\n",
    "print(f\"Testing set shape: {X_test.shape}\")"
   ]
  },
  {
   "cell_type": "code",
   "execution_count": 12,
   "id": "e7d52f86-dc27-423a-84d9-e66d013c8d23",
   "metadata": {},
   "outputs": [
    {
     "name": "stdout",
     "output_type": "stream",
     "text": [
      "Model Training Complete!\n"
     ]
    }
   ],
   "source": [
    "#Build and Train Model\n",
    "#define the Pipeline\n",
    "\n",
    "pipeline=Pipeline([\n",
    "    ('preprocessor', preprocessor),\n",
    "    ('classifier', RandomForestClassifier(n_estimators=100, random_state=42))\n",
    "])\n",
    "\n",
    "#Train the model\n",
    "pipeline.fit(X_train,y_train)\n",
    "print(\"Model Training Complete!\")"
   ]
  },
  {
   "cell_type": "code",
   "execution_count": 20,
   "id": "1ae90a9f-f620-421d-a772-d4c0e467da5e",
   "metadata": {},
   "outputs": [
    {
     "name": "stdout",
     "output_type": "stream",
     "text": [
      "Model Accuracy: 0.76\n"
     ]
    }
   ],
   "source": [
    "#Evaluate the model\n",
    "#make prediction\n",
    "y_pred= pipeline.predict(X_test)\n",
    "\n",
    "#Compute acuracy\n",
    "accuracy= accuracy_score(y_test,y_pred)\n",
    "print(f\"Model Accuracy: {accuracy:.2f}\")"
   ]
  },
  {
   "cell_type": "code",
   "execution_count": 21,
   "id": "176db50e-b2ae-4869-afca-ff0780812aaa",
   "metadata": {},
   "outputs": [
    {
     "name": "stdout",
     "output_type": "stream",
     "text": [
      "Prediction: Did not Survived\n"
     ]
    }
   ],
   "source": [
    "#Save and Load the Model\n",
    "joblib.dump(pipeline,'ml_pipeline.pkl')\n",
    "\n",
    "#load the model\n",
    "loaded_pipeline=joblib.load('ml_pipeline.pkl')\n",
    "\n",
    "#Predict using the load model\n",
    "sample_data=pd.DataFrame([{'Pclass':3, 'Sex':'male', 'Age':25, 'SibSp':0, 'Parch':0, 'Fare':7.5, 'Embarked':'5'}])\n",
    "prediction= loaded_pipeline.predict(sample_data)\n",
    "print(f\"Prediction: {'Survived' if prediction[0] == 1 else  'Did not Survived'}\")"
   ]
  },
  {
   "cell_type": "code",
   "execution_count": null,
   "id": "726e56ef-5d17-45c9-ae11-cbc6abbf99b0",
   "metadata": {},
   "outputs": [],
   "source": []
  }
 ],
 "metadata": {
  "kernelspec": {
   "display_name": "Python 3 (ipykernel)",
   "language": "python",
   "name": "python3"
  },
  "language_info": {
   "codemirror_mode": {
    "name": "ipython",
    "version": 3
   },
   "file_extension": ".py",
   "mimetype": "text/x-python",
   "name": "python",
   "nbconvert_exporter": "python",
   "pygments_lexer": "ipython3",
   "version": "3.10.0"
  }
 },
 "nbformat": 4,
 "nbformat_minor": 5
}
